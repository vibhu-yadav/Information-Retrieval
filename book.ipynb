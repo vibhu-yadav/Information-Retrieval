{
 "cells": [
  {
   "cell_type": "code",
   "execution_count": 16,
   "metadata": {},
   "outputs": [],
   "source": [
    "from lxml import html\n",
    "import requests"
   ]
  },
  {
   "cell_type": "code",
   "execution_count": 17,
   "metadata": {},
   "outputs": [],
   "source": [
    "url = \"https://nlp.stanford.edu/IR-book/\"\n",
    "\n",
    "r = requests.get(url)"
   ]
  },
  {
   "cell_type": "code",
   "execution_count": 18,
   "metadata": {},
   "outputs": [],
   "source": [
    "tree = html.fromstring(r.content)"
   ]
  },
  {
   "cell_type": "code",
   "execution_count": 19,
   "metadata": {},
   "outputs": [],
   "source": [
    "for row in tree.xpath(\"//table/tbody/tr[position() >= 3 and position() <= 23]\"):\n",
    "    chno = row.xpath(\"./td[1]/text()\")[0].strip()\n",
    "    chname = row.xpath(\"./td[2]/text()\")[0].strip()\n",
    "    link = row.xpath(\"./td[3]/a/@href\")[0]\n",
    "\n",
    "    # print(chno,chname,link)\n",
    "\n",
    "    pdf = requests.get(link)\n",
    "\n",
    "    with open(\"./Book/\" + str(chno) + \"-\" + str(chname) + \".pdf\",'wb') as f:\n",
    "        f.write(pdf.content)"
   ]
  },
  {
   "cell_type": "code",
   "execution_count": null,
   "metadata": {},
   "outputs": [],
   "source": []
  }
 ],
 "metadata": {
  "kernelspec": {
   "display_name": "Python 3.9.12 ('base')",
   "language": "python",
   "name": "python3"
  },
  "language_info": {
   "codemirror_mode": {
    "name": "ipython",
    "version": 3
   },
   "file_extension": ".py",
   "mimetype": "text/x-python",
   "name": "python",
   "nbconvert_exporter": "python",
   "pygments_lexer": "ipython3",
   "version": "3.9.12"
  },
  "orig_nbformat": 4,
  "vscode": {
   "interpreter": {
    "hash": "d2d17cfe12546a0251f61e0b49c2fd05d6dee2f31a0c0c3c1b8bdb8bef7481e5"
   }
  }
 },
 "nbformat": 4,
 "nbformat_minor": 2
}
