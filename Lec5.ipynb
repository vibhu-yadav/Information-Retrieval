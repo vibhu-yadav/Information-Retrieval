{
 "cells": [
  {
   "cell_type": "markdown",
   "metadata": {},
   "source": [
    "# Lemmatization\n",
    "\n",
    "&ensp; <b>Eg:</b> \n",
    "- am,are,is => be [Exception Rule]\n",
    "- cars,car's,cars => car\n",
    "\n",
    "<!-- <b> Inflectional Morphology </b>  -->\n",
    "### Inflectional Morphology\n",
    "- cutting => cut\n",
    "<br>\n",
    "\n",
    "### Derivational Morphology\n",
    "- destruction => destroy\n",
    "<br>\n",
    "<!-- <b> Derivational Mophology </b>  -->\n",
    "\n",
    "### Stemming\n",
    "- automate, automatic, automation => automat"
   ]
  },
  {
   "cell_type": "code",
   "execution_count": null,
   "metadata": {},
   "outputs": [],
   "source": []
  },
  {
   "cell_type": "markdown",
   "metadata": {},
   "source": [
    "## Some possible rules for Stemming\n",
    "&ensp;&ensp;[Porter Stemmer]\n",
    "\n",
    "### SSES => SS\n",
    "- Caresses => caress\n",
    "\n",
    "### IES => I\n",
    "- ponies => poni {not grammatically correct but works because both document and queries are passed through same stemmer, thus they would always match}\n",
    "[It helps in the case when \"pony\" and \"ponies\" are used in different context.]\n",
    "\n",
    "### SS => SS\n",
    "- caress => caress\n",
    "### S => \"\"\n",
    "- cats => cat\n",
    "\n",
    "\n",
    "## If Rules collide, the larger match is preferred.\n",
    "- for ponies => poni , IES is followed and not S."
   ]
  },
  {
   "cell_type": "markdown",
   "metadata": {},
   "source": []
  },
  {
   "cell_type": "markdown",
   "metadata": {},
   "source": [
    "### Rule\n",
    "- Remove \"cement\" from the end if residual no. of chars >= K\n",
    "\n",
    "replacement => repla\n",
    "cement => \"\" ??? [not done if K>=1]"
   ]
  },
  {
   "cell_type": "code",
   "execution_count": null,
   "metadata": {},
   "outputs": [],
   "source": []
  },
  {
   "cell_type": "markdown",
   "metadata": {},
   "source": [
    "<b>Back to posting lists</b>\n",
    "\n"
   ]
  },
  {
   "cell_type": "code",
   "execution_count": null,
   "metadata": {},
   "outputs": [],
   "source": []
  },
  {
   "cell_type": "markdown",
   "metadata": {},
   "source": [
    "### 1)\n",
    "[2]==[4]==[8]==[41]==[46]==[64]==[128].....\n",
    "\n",
    "Also, [2]--> [41], [41]-->[128]\n",
    "\n",
    "### 2)\n",
    "[1]==[2]==[3]==[8]==[11]==[17]==[21]==[31]....\n",
    "\n",
    "Also, [1]-->[11], [11]-->[31]\n",
    "\n"
   ]
  },
  {
   "cell_type": "markdown",
   "metadata": {},
   "source": [
    "||Pros|Cons|\n",
    "|---|---|---|\n",
    "|<b>More Skips</b>|Less miss of skips|More Pointer comparsions|\n",
    "|<b>Less Skips</b>|More miss of skips|Less Pointer Comparisons|"
   ]
  },
  {
   "cell_type": "code",
   "execution_count": null,
   "metadata": {},
   "outputs": [],
   "source": []
  },
  {
   "cell_type": "markdown",
   "metadata": {},
   "source": [
    "### Phrasal Queries\n",
    "\n",
    "<b> Query </b>: [Stanford University]\n",
    "<b> Doc </b>: [The inventor Stanford Ovishinsky never went to University]\n",
    "\n",
    "- The above query should not be a hit for this doc as it doesn't match the context.\n",
    "- About 10% of all web queries are phrasal queries"
   ]
  },
  {
   "cell_type": "markdown",
   "metadata": {},
   "source": [
    "<b> Biword Index</b> <br>\n",
    "<b> Positional Indexing </b>\n",
    "\n",
    "- Along with all the terms you also keep the mid term.\n",
    "Eg: friends,romans,countrymen -> friends romans, romans countrymen"
   ]
  },
  {
   "cell_type": "markdown",
   "metadata": {},
   "source": []
  },
  {
   "cell_type": "markdown",
   "metadata": {},
   "source": [
    "<b> Extended Biwords </b> <br>\n",
    "- do <b>POS</b> [parts of speech] tagging\n",
    "- Nouns (N), Articles/Determiners(X)\n",
    "\n",
    "Using this logic, we could use the rule <b> NX<sup>*</sup>N </b> <br>\n",
    "This would capture the phrases like: <br>\n",
    "- King of Bolivia\n",
    "- Catcher in the Eye\n"
   ]
  },
  {
   "cell_type": "markdown",
   "metadata": {},
   "source": [
    "### Positional Index\n",
    "- Use position of Terms along with the <b>doc ids</b>\n",
    "- So we dont just mention occurance as <b>{doc number} : {no of occurance in that doc}</b>\n",
    "- We instead use <b>{doc number} : {list of positions of occourance}</b>"
   ]
  },
  {
   "cell_type": "markdown",
   "metadata": {},
   "source": [
    "<b> Eg: </b> <br>\n",
    "to : 99437 {to occurs total of 99437 times}\n",
    "\n",
    "{ <br>\n",
    "    {1} : [7,18,72,78,83], <br>\n",
    "    {2} : [1,17,74,222,255], <br>\n",
    "    {4} : [15,48,89,93], <br>\n",
    "    {5} : [189,583], <br>\n",
    "    {7} : [13,23,191], <br>\n",
    "    .....    <br>\n",
    "}<br>\n",
    "\n",
    "<b> QUERY </b> : \"to be or not to be\"\n",
    "- Possible match in doc4\n",
    "- Required words {to,be,or,not} but there are positional constraints as well\n",
    "- The first and second \"to\" should have 3 words in between\n",
    "- \"to\" and \"be\" should occur consecutively twice\n",
    "\n",
    "a bunch of similar positional rules should be inforced.\n"
   ]
  },
  {
   "cell_type": "markdown",
   "metadata": {},
   "source": [
    "## When to use Positional Index or Biword Index ??"
   ]
  },
  {
   "cell_type": "markdown",
   "metadata": {},
   "source": []
  }
 ],
 "metadata": {
  "kernelspec": {
   "display_name": "Python 3.9.12 ('base')",
   "language": "python",
   "name": "python3"
  },
  "language_info": {
   "codemirror_mode": {
    "name": "ipython",
    "version": 3
   },
   "file_extension": ".py",
   "mimetype": "text/x-python",
   "name": "python",
   "nbconvert_exporter": "python",
   "pygments_lexer": "ipython3",
   "version": "3.9.12"
  },
  "orig_nbformat": 4,
  "vscode": {
   "interpreter": {
    "hash": "968e33d0c2f996ec3d5b7d4f2ce047e31cf6bd8d65057c63984ae782e8900fa1"
   }
  }
 },
 "nbformat": 4,
 "nbformat_minor": 2
}
